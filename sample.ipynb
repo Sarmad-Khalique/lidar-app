{
 "cells": [
  {
   "metadata": {
    "ExecuteTime": {
     "end_time": "2025-01-02T15:30:02.952926Z",
     "start_time": "2025-01-02T15:30:02.950646Z"
    }
   },
   "cell_type": "code",
   "source": "import open3d as o3d",
   "id": "fbc121e30a2defb3",
   "outputs": [],
   "execution_count": 9
  },
  {
   "metadata": {
    "ExecuteTime": {
     "end_time": "2025-01-02T15:30:02.955534Z",
     "start_time": "2025-01-02T15:30:02.953599Z"
    }
   },
   "cell_type": "code",
   "source": "print(\"Hello, Open3D\", o3d.__version__)",
   "id": "a59d9df12768a8b6",
   "outputs": [
    {
     "name": "stdout",
     "output_type": "stream",
     "text": [
      "Hello, Open3D 0.18.0\n"
     ]
    }
   ],
   "execution_count": 10
  },
  {
   "metadata": {
    "ExecuteTime": {
     "end_time": "2025-01-02T15:30:03.017417Z",
     "start_time": "2025-01-02T15:30:02.956411Z"
    }
   },
   "cell_type": "code",
   "source": [
    "pcd = o3d.io.read_point_cloud(\"data/room.ply\")\n",
    "print(pcd)"
   ],
   "id": "948f0c5a29cedb07",
   "outputs": [
    {
     "name": "stdout",
     "output_type": "stream",
     "text": [
      "PointCloud with 620491 points.\n"
     ]
    }
   ],
   "execution_count": 11
  },
  {
   "metadata": {
    "ExecuteTime": {
     "end_time": "2025-01-02T15:30:03.078084Z",
     "start_time": "2025-01-02T15:30:03.018148Z"
    }
   },
   "cell_type": "code",
   "source": [
    "# Downsampling\n",
    "voxel_size = 0.02\n",
    "pcd_downsampled = pcd.voxel_down_sample(voxel_size=voxel_size)\n",
    "print(pcd_downsampled)"
   ],
   "id": "bfbf11d8f6828476",
   "outputs": [
    {
     "name": "stdout",
     "output_type": "stream",
     "text": [
      "PointCloud with 81168 points.\n"
     ]
    }
   ],
   "execution_count": 12
  },
  {
   "metadata": {
    "ExecuteTime": {
     "end_time": "2025-01-02T15:38:11.355652Z",
     "start_time": "2025-01-02T15:30:03.079104Z"
    }
   },
   "cell_type": "code",
   "source": [
    "# Statistical outlier removal\n",
    "nb_neighbors = 10000  # Adjust based on voxel size and point density\n",
    "std_ratio = 2.0\n",
    "cl, ind = pcd_downsampled.remove_statistical_outlier(nb_neighbors=nb_neighbors, std_ratio=std_ratio)\n",
    "pcd_filtered = pcd_downsampled.select_by_index(ind)\n",
    "print(pcd_filtered)"
   ],
   "id": "cc34a167abebab40",
   "outputs": [
    {
     "name": "stdout",
     "output_type": "stream",
     "text": [
      "PointCloud with 76172 points.\n"
     ]
    }
   ],
   "execution_count": 13
  },
  {
   "metadata": {
    "ExecuteTime": {
     "end_time": "2025-01-02T15:38:11.359865Z",
     "start_time": "2025-01-02T15:38:11.357088Z"
    }
   },
   "cell_type": "code",
   "source": "# o3d.visualization.draw_geometries([pcd_filtered])",
   "id": "2ce94b76b24d27e5",
   "outputs": [],
   "execution_count": 14
  },
  {
   "metadata": {
    "ExecuteTime": {
     "end_time": "2025-01-02T15:38:16.386452Z",
     "start_time": "2025-01-02T15:38:11.360446Z"
    }
   },
   "cell_type": "code",
   "source": [
    "# Estimate normals\n",
    "pcd_filtered.estimate_normals(\n",
    "    search_param=o3d.geometry.KDTreeSearchParamHybrid(radius=0.09, max_nn=1000))"
   ],
   "id": "673127c577ccd3b3",
   "outputs": [],
   "execution_count": 15
  },
  {
   "metadata": {
    "ExecuteTime": {
     "end_time": "2025-01-02T16:28:01.186843Z",
     "start_time": "2025-01-02T15:38:16.387187Z"
    }
   },
   "cell_type": "code",
   "source": "o3d.visualization.draw_geometries([pcd_filtered])",
   "id": "7e0515d53a6dc863",
   "outputs": [
    {
     "name": "stdout",
     "output_type": "stream",
     "text": [
      "\u001B[1;33m[Open3D WARNING] GLFW Error: Cocoa: Failed to find service port for display\u001B[0;m\n"
     ]
    }
   ],
   "execution_count": 16
  }
 ],
 "metadata": {
  "kernelspec": {
   "display_name": "Python 3",
   "language": "python",
   "name": "python3"
  },
  "language_info": {
   "codemirror_mode": {
    "name": "ipython",
    "version": 2
   },
   "file_extension": ".py",
   "mimetype": "text/x-python",
   "name": "python",
   "nbconvert_exporter": "python",
   "pygments_lexer": "ipython2",
   "version": "2.7.6"
  }
 },
 "nbformat": 4,
 "nbformat_minor": 5
}
